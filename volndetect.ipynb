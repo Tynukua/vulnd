{
 "cells": [
  {
   "cell_type": "code",
   "execution_count": 1,
   "metadata": {},
   "outputs": [],
   "source": [
    "cache_dir = \"D://hubface_cache\""
   ]
  },
  {
   "cell_type": "code",
   "execution_count": 2,
   "metadata": {},
   "outputs": [
    {
     "name": "stdout",
     "output_type": "stream",
     "text": [
      "WARNING:tensorflow:From C:\\Users\\bowsw\\AppData\\Roaming\\Python\\Python312\\site-packages\\tf_keras\\src\\losses.py:2976: The name tf.losses.sparse_softmax_cross_entropy is deprecated. Please use tf.compat.v1.losses.sparse_softmax_cross_entropy instead.\n",
      "\n"
     ]
    }
   ],
   "source": [
    "from tqdm import tqdm\n",
    "\n",
    "from transformers import ( RobertaTokenizer)\n",
    "from datasets import Dataset\n",
    "from transformers import RobertaTokenizer\n",
    "from transformers import DataCollatorWithPadding\n",
    "from transformers import AutoModelForSequenceClassification, TrainingArguments, Trainer\n",
    "\n",
    "import torch\n",
    "\n",
    "import evaluate\n",
    "import numpy as np\n",
    "import pandas as pd\n",
    "from sklearn.model_selection import train_test_split"
   ]
  },
  {
   "cell_type": "markdown",
   "metadata": {},
   "source": [
    "# Data preparation"
   ]
  },
  {
   "cell_type": "code",
   "execution_count": 24,
   "metadata": {},
   "outputs": [
    {
     "data": {
      "text/html": [
       "<div>\n",
       "<style scoped>\n",
       "    .dataframe tbody tr th:only-of-type {\n",
       "        vertical-align: middle;\n",
       "    }\n",
       "\n",
       "    .dataframe tbody tr th {\n",
       "        vertical-align: top;\n",
       "    }\n",
       "\n",
       "    .dataframe thead th {\n",
       "        text-align: right;\n",
       "    }\n",
       "</style>\n",
       "<table border=\"1\" class=\"dataframe\">\n",
       "  <thead>\n",
       "    <tr style=\"text-align: right;\">\n",
       "      <th></th>\n",
       "      <th>code</th>\n",
       "      <th>CWE-119</th>\n",
       "      <th>CWE-120</th>\n",
       "      <th>CWE-469</th>\n",
       "      <th>CWE-476</th>\n",
       "      <th>CWE-OTHERS</th>\n",
       "      <th>Label</th>\n",
       "      <th>DataType</th>\n",
       "    </tr>\n",
       "  </thead>\n",
       "  <tbody>\n",
       "    <tr>\n",
       "      <th>651418</th>\n",
       "      <td>reset_eterm_image(image_t *image_tPointerMarker, unsigned long unsignedMarker)\\n{\\n    ASSERT(image_tPointerMarker != NULL);\\n\\n    D_PIXMAP((\"reset_image(%8p, 0x%08x)\\n\", image_tPointerMarker, unsignedMarker));\\n\\n    if ((unsignedMarker &amp; RESET_NORM) &amp;&amp; image_tPointerMarker-&gt;norm) {\\n        reset_simage(image_tPointerMarker-&gt;norm, unsignedMarker);\\n    }\\n    if ((unsignedMarker &amp; RESET_SE...</td>\n",
       "      <td>False</td>\n",
       "      <td>False</td>\n",
       "      <td>False</td>\n",
       "      <td>True</td>\n",
       "      <td>False</td>\n",
       "      <td>1</td>\n",
       "      <td>VDISC</td>\n",
       "    </tr>\n",
       "    <tr>\n",
       "      <th>450729</th>\n",
       "      <td>toggled_default_inmd(GtkCellRendererToggle *GtkCellRendererTogglePointerMarker, gchar *gcharPointerMarker, gpointer gpointerMarker)\\n{\\n  GtkTreeModel *GtkTreeModelPointerMarker = GTK_TREE_MODEL (gpointerMarker);\\n  clear_col_default_inmd(GtkTreeModelPointerMarker);\\n  GtkTreeIter iter;\\n  GtkTreePath *GtkTreePathPointerMarker = gtk_tree_path_new_from_string (gcharPointerMarker);\\n\\n  gtk_tre...</td>\n",
       "      <td>True</td>\n",
       "      <td>True</td>\n",
       "      <td>False</td>\n",
       "      <td>False</td>\n",
       "      <td>False</td>\n",
       "      <td>1</td>\n",
       "      <td>VDISC</td>\n",
       "    </tr>\n",
       "    <tr>\n",
       "      <th>149600</th>\n",
       "      <td>sys_cleanup(void)\\n{\\n\\n    if (if_is_up) {\\n if_is_up = 0;\\n sifdown(0);\\n    }\\n\\n    if (have_default_route)\\n cifdefaultroute(0, 0, 0);\\n\\n    if (has_proxy_arp)\\n cifproxyarp(0, proxy_arp_addr);\\n}\\n\\n</td>\n",
       "      <td>False</td>\n",
       "      <td>False</td>\n",
       "      <td>False</td>\n",
       "      <td>False</td>\n",
       "      <td>False</td>\n",
       "      <td>0</td>\n",
       "      <td>VDISC</td>\n",
       "    </tr>\n",
       "    <tr>\n",
       "      <th>39517</th>\n",
       "      <td>evh1(struct mg_connection *structPointerMarker, enum mg_event enumMarker) {\\n  char *charPointerMarker = (char *) structPointerMarker-&gt;connection_param;\\n  int intMarker = MG_FALSE;\\n\\n  switch (enumMarker) {\\n    case MG_CONNECT:\\n      mg_printf(structPointerMarker,  \"GET %s HTTP/1.0\\r\\n\\r\\n\",\\n                charPointerMarker[0] == '1' ? \"/cb1\" : \"/non_exist\");\\n      intMarker = MG_TRUE;...</td>\n",
       "      <td>False</td>\n",
       "      <td>False</td>\n",
       "      <td>False</td>\n",
       "      <td>False</td>\n",
       "      <td>False</td>\n",
       "      <td>0</td>\n",
       "      <td>VDISC</td>\n",
       "    </tr>\n",
       "    <tr>\n",
       "      <th>1030602</th>\n",
       "      <td>\\n \\n \\n #include \"IncludeMarker\"\\n \\n typedef struct _CWE190_Integer_Overflow__unsigned_int_rand_add_67_structType\\n {\\n     unsigned int intMarker;\\n } CWE190_Integer_Overflow__unsigned_int_rand_add_67_structType;\\n \\n #ifndef OMITBAD\\n \\n \\n void VoidFunctionMarker(CWE190_Integer_Overflow__unsigned_int_rand_add_67_structType myStruct);\\n \\n \\n #endif \\n \\n #ifndef OMITGOOD\\n \\n \\n void Void...</td>\n",
       "      <td>False</td>\n",
       "      <td>False</td>\n",
       "      <td>False</td>\n",
       "      <td>False</td>\n",
       "      <td>True</td>\n",
       "      <td>1</td>\n",
       "      <td>SARD</td>\n",
       "    </tr>\n",
       "  </tbody>\n",
       "</table>\n",
       "</div>"
      ],
      "text/plain": [
       "                                                                                                                                                                                                                                                                                                                                                                                                                    code  \\\n",
       "651418    reset_eterm_image(image_t *image_tPointerMarker, unsigned long unsignedMarker)\\n{\\n    ASSERT(image_tPointerMarker != NULL);\\n\\n    D_PIXMAP((\"reset_image(%8p, 0x%08x)\\n\", image_tPointerMarker, unsignedMarker));\\n\\n    if ((unsignedMarker & RESET_NORM) && image_tPointerMarker->norm) {\\n        reset_simage(image_tPointerMarker->norm, unsignedMarker);\\n    }\\n    if ((unsignedMarker & RESET_SE...   \n",
       "450729    toggled_default_inmd(GtkCellRendererToggle *GtkCellRendererTogglePointerMarker, gchar *gcharPointerMarker, gpointer gpointerMarker)\\n{\\n  GtkTreeModel *GtkTreeModelPointerMarker = GTK_TREE_MODEL (gpointerMarker);\\n  clear_col_default_inmd(GtkTreeModelPointerMarker);\\n  GtkTreeIter iter;\\n  GtkTreePath *GtkTreePathPointerMarker = gtk_tree_path_new_from_string (gcharPointerMarker);\\n\\n  gtk_tre...   \n",
       "149600                                                                                                                                                                                                    sys_cleanup(void)\\n{\\n\\n    if (if_is_up) {\\n if_is_up = 0;\\n sifdown(0);\\n    }\\n\\n    if (have_default_route)\\n cifdefaultroute(0, 0, 0);\\n\\n    if (has_proxy_arp)\\n cifproxyarp(0, proxy_arp_addr);\\n}\\n\\n   \n",
       "39517     evh1(struct mg_connection *structPointerMarker, enum mg_event enumMarker) {\\n  char *charPointerMarker = (char *) structPointerMarker->connection_param;\\n  int intMarker = MG_FALSE;\\n\\n  switch (enumMarker) {\\n    case MG_CONNECT:\\n      mg_printf(structPointerMarker,  \"GET %s HTTP/1.0\\r\\n\\r\\n\",\\n                charPointerMarker[0] == '1' ? \"/cb1\" : \"/non_exist\");\\n      intMarker = MG_TRUE;...   \n",
       "1030602  \\n \\n \\n #include \"IncludeMarker\"\\n \\n typedef struct _CWE190_Integer_Overflow__unsigned_int_rand_add_67_structType\\n {\\n     unsigned int intMarker;\\n } CWE190_Integer_Overflow__unsigned_int_rand_add_67_structType;\\n \\n #ifndef OMITBAD\\n \\n \\n void VoidFunctionMarker(CWE190_Integer_Overflow__unsigned_int_rand_add_67_structType myStruct);\\n \\n \\n #endif \\n \\n #ifndef OMITGOOD\\n \\n \\n void Void...   \n",
       "\n",
       "         CWE-119  CWE-120  CWE-469  CWE-476  CWE-OTHERS  Label DataType  \n",
       "651418     False    False    False     True       False      1    VDISC  \n",
       "450729      True     True    False    False       False      1    VDISC  \n",
       "149600     False    False    False    False       False      0    VDISC  \n",
       "39517      False    False    False    False       False      0    VDISC  \n",
       "1030602    False    False    False    False        True      1     SARD  "
      ]
     },
     "execution_count": 24,
     "metadata": {},
     "output_type": "execute_result"
    }
   ],
   "source": [
    "pd.set_option('max_colwidth', 400)\n",
    "df = pd.read_csv('../datasets/marked_sard_vdisc_train.csv')\n",
    "df.head()\n",
    "df_0 = df[df['Label'] == 0].sample(frac=0.12, random_state=42)\n",
    "df_1 = df[df['Label'] == 1]\n",
    "df = pd.concat([df_0, df_1])\n",
    "df = df.sample(frac=0.1, random_state=42)\n",
    "\n",
    "df.head()"
   ]
  },
  {
   "cell_type": "code",
   "execution_count": 25,
   "metadata": {},
   "outputs": [
    {
     "name": "stderr",
     "output_type": "stream",
     "text": [
      "C:\\Users\\bowsw\\AppData\\Local\\Temp\\ipykernel_18660\\895471566.py:8: FutureWarning: \n",
      "\n",
      "Passing `palette` without assigning `hue` is deprecated and will be removed in v0.14.0. Assign the `x` variable to `hue` and set `legend=False` for the same effect.\n",
      "\n",
      "  sns.barplot(x=vuln_counts.index, y=vuln_counts.values, palette='viridis')\n"
     ]
    },
    {
     "data": {
      "image/png": "[encoded data removed]",
      "text/plain": [
       "<Figure size 1000x600 with 1 Axes>"
      ]
     },
     "metadata": {},
     "output_type": "display_data"
    },
    {
     "name": "stderr",
     "output_type": "stream",
     "text": [
      "C:\\Users\\bowsw\\AppData\\Local\\Temp\\ipykernel_18660\\895471566.py:20: FutureWarning: \n",
      "\n",
      "Passing `palette` without assigning `hue` is deprecated and will be removed in v0.14.0. Assign the `x` variable to `hue` and set `legend=False` for the same effect.\n",
      "\n",
      "  sns.barplot(x=cwe_counts.index, y=cwe_counts.values, palette='viridis')\n"
     ]
    },
    {
     "data": {
      "image/png": "[encoded data removed]",
      "text/plain": [
       "<Figure size 1000x600 with 1 Axes>"
      ]
     },
     "metadata": {},
     "output_type": "display_data"
    }
   ],
   "source": [
    "import matplotlib.pyplot as plt\n",
    "import seaborn as sns\n",
    "# Count the number of vulnerable and non-vulnerable code samples\n",
    "vuln_counts = df['Label'].value_counts()\n",
    "\n",
    "# Create a bar plot for vulnerable and non-vulnerable code samples\n",
    "plt.figure(figsize=(10, 6))\n",
    "sns.barplot(x=vuln_counts.index, y=vuln_counts.values, palette='viridis')\n",
    "plt.xlabel('Label')\n",
    "plt.ylabel('Count')\n",
    "plt.title('Count of Vulnerable and Non-Vulnerable Code Samples')\n",
    "plt.xticks(ticks=[0, 1], labels=['Non-Vulnerable', 'Vulnerable'])\n",
    "plt.show()\n",
    "\n",
    "# Count the occurrences of each CWE type\n",
    "cwe_counts = df[['CWE-119', 'CWE-120', 'CWE-469', 'CWE-476', 'CWE-OTHERS']].sum()\n",
    "\n",
    "# Create a bar plot for CWE types\n",
    "plt.figure(figsize=(10, 6))\n",
    "sns.barplot(x=cwe_counts.index, y=cwe_counts.values, palette='viridis')\n",
    "plt.xlabel('CWE Type')\n",
    "plt.ylabel('Count')\n",
    "plt.title('Count of Each CWE Type')\n",
    "plt.show()\n"
   ]
  },
  {
   "cell_type": "code",
   "execution_count": 26,
   "metadata": {},
   "outputs": [],
   "source": [
    "df_train, df_test = train_test_split(df, test_size=0.2, random_state=42)"
   ]
  },
  {
   "cell_type": "code",
   "execution_count": 27,
   "metadata": {},
   "outputs": [],
   "source": [
    "dataset = {}\n",
    "dataset['text'] = list(df_train['code'])\n",
    "dataset['label'] = list(df_train['Label'])\n",
    "ds = Dataset.from_dict(dataset)\n",
    "ds = ds.train_test_split(test_size=0.1)"
   ]
  },
  {
   "cell_type": "code",
   "execution_count": 28,
   "metadata": {},
   "outputs": [],
   "source": [
    "tokenizer = RobertaTokenizer.from_pretrained('microsoft/codebert-base-mlm', cache_dir=\"D://hubface_cache\")"
   ]
  },
  {
   "cell_type": "code",
   "execution_count": 29,
   "metadata": {},
   "outputs": [
    {
     "data": {
      "application/vnd.jupyter.widget-view+json": {
       "model_id": "d7545064bda849299018d95c34220223",
       "version_major": 2,
       "version_minor": 0
      },
      "text/plain": [
       "Map:   0%|          | 0/16294 [00:00<?, ? examples/s]"
      ]
     },
     "metadata": {},
     "output_type": "display_data"
    },
    {
     "data": {
      "application/vnd.jupyter.widget-view+json": {
       "model_id": "667e48789afe413190e294c70d509e70",
       "version_major": 2,
       "version_minor": 0
      },
      "text/plain": [
       "Map:   0%|          | 0/1811 [00:00<?, ? examples/s]"
      ]
     },
     "metadata": {},
     "output_type": "display_data"
    }
   ],
   "source": [
    "def preprocess_function(examples):\n",
    "    return tokenizer(examples[\"text\"], truncation=True)\n",
    "\n",
    "tokenized_dataset = ds.map(preprocess_function, batched=True)"
   ]
  },
  {
   "cell_type": "code",
   "execution_count": 31,
   "metadata": {},
   "outputs": [
    {
     "data": {
      "application/vnd.jupyter.widget-view+json": {
       "model_id": "355e14edab37449185deda91765cd416",
       "version_major": 2,
       "version_minor": 0
      },
      "text/plain": [
       "Saving the dataset (0/1 shards):   0%|          | 0/16294 [00:00<?, ? examples/s]"
      ]
     },
     "metadata": {},
     "output_type": "display_data"
    },
    {
     "data": {
      "application/vnd.jupyter.widget-view+json": {
       "model_id": "bed1578f206e43d18b2742e94a924090",
       "version_major": 2,
       "version_minor": 0
      },
      "text/plain": [
       "Saving the dataset (0/1 shards):   0%|          | 0/1811 [00:00<?, ? examples/s]"
      ]
     },
     "metadata": {},
     "output_type": "display_data"
    }
   ],
   "source": [
    "tokenized_dataset.save_to_disk(\"../datasets/tokenized_dataset\")"
   ]
  },
  {
   "cell_type": "code",
   "execution_count": 32,
   "metadata": {},
   "outputs": [],
   "source": [
    "from datasets import load_from_disk\n",
    "tokenized_dataset = load_from_disk(\"../datasets/tokenized_dataset\")\n"
   ]
  },
  {
   "cell_type": "code",
   "execution_count": 33,
   "metadata": {},
   "outputs": [],
   "source": [
    "data_collator = DataCollatorWithPadding(tokenizer=tokenizer)"
   ]
  },
  {
   "cell_type": "code",
   "execution_count": 34,
   "metadata": {},
   "outputs": [],
   "source": [
    "accuracy = evaluate.load(\"accuracy\")\n",
    "\n",
    "def compute_metrics(eval_pred):\n",
    "    predictions, labels = eval_pred\n",
    "    predictions = np.argmax(predictions, axis=1)\n",
    "    return accuracy.compute(predictions=predictions, references=labels)"
   ]
  },
  {
   "cell_type": "code",
   "execution_count": 35,
   "metadata": {},
   "outputs": [
    {
     "name": "stderr",
     "output_type": "stream",
     "text": [
      "Some weights of RobertaForSequenceClassification were not initialized from the model checkpoint at microsoft/codebert-base-mlm and are newly initialized: ['classifier.dense.bias', 'classifier.dense.weight', 'classifier.out_proj.bias', 'classifier.out_proj.weight']\n",
      "You should probably TRAIN this model on a down-stream task to be able to use it for predictions and inference.\n"
     ]
    }
   ],
   "source": [
    "model = AutoModelForSequenceClassification.from_pretrained(\n",
    "    \"microsoft/codebert-base-mlm\", num_labels=2, cache_dir=\"D://hubface_cache\"\n",
    ")"
   ]
  },
  {
   "cell_type": "code",
   "execution_count": 36,
   "metadata": {},
   "outputs": [
    {
     "name": "stderr",
     "output_type": "stream",
     "text": [
      "C:\\Users\\bowsw\\AppData\\Roaming\\Python\\Python312\\site-packages\\transformers\\training_args.py:1575: FutureWarning: `evaluation_strategy` is deprecated and will be removed in version 4.46 of 🤗 Transformers. Use `eval_strategy` instead\n",
      "  warnings.warn(\n",
      "C:\\Users\\bowsw\\AppData\\Local\\Temp\\ipykernel_18660\\565366963.py:14: FutureWarning: `tokenizer` is deprecated and will be removed in version 5.0.0 for `Trainer.__init__`. Use `processing_class` instead.\n",
      "  trainer = Trainer(\n"
     ]
    },
    {
     "data": {
      "text/html": [
       "\n",
       "    <div>\n",
       "      \n",
       "      <progress value='1019' max='1019' style='width:300px; height:20px; vertical-align: middle;'></progress>\n",
       "      [1019/1019 06:44, Epoch 1/1]\n",
       "    </div>\n",
       "    <table border=\"1\" class=\"dataframe\">\n",
       "  <thead>\n",
       " <tr style=\"text-align: left;\">\n",
       "      <th>Epoch</th>\n",
       "      <th>Training Loss</th>\n",
       "      <th>Validation Loss</th>\n",
       "      <th>Accuracy</th>\n",
       "    </tr>\n",
       "  </thead>\n",
       "  <tbody>\n",
       "    <tr>\n",
       "      <td>1</td>\n",
       "      <td>0.371600</td>\n",
       "      <td>0.355921</td>\n",
       "      <td>0.848150</td>\n",
       "    </tr>\n",
       "  </tbody>\n",
       "</table><p>"
      ],
      "text/plain": [
       "<IPython.core.display.HTML object>"
      ]
     },
     "metadata": {},
     "output_type": "display_data"
    },
    {
     "data": {
      "text/plain": [
       "TrainOutput(global_step=1019, training_loss=0.39901573407638297, metrics={'train_runtime': 404.8454, 'train_samples_per_second': 40.247, 'train_steps_per_second': 2.517, 'total_flos': 4287131536035840.0, 'train_loss': 0.39901573407638297, 'epoch': 1.0})"
      ]
     },
     "execution_count": 36,
     "metadata": {},
     "output_type": "execute_result"
    }
   ],
   "source": [
    "training_args = TrainingArguments(\n",
    "    output_dir=\"trained_model\",\n",
    "    learning_rate=2e-5,\n",
    "    per_device_train_batch_size=16,\n",
    "    per_device_eval_batch_size=16,\n",
    "    num_train_epochs=1,\n",
    "    weight_decay=0.01,\n",
    "    evaluation_strategy=\"epoch\",\n",
    "    save_strategy=\"epoch\",\n",
    "    load_best_model_at_end=True,\n",
    "    report_to=\"none\"\n",
    ")\n",
    "\n",
    "trainer = Trainer(\n",
    "    model=model,\n",
    "    args=training_args,\n",
    "    train_dataset=tokenized_dataset[\"train\"],\n",
    "    eval_dataset=tokenized_dataset[\"test\"],\n",
    "    tokenizer=tokenizer,\n",
    "    data_collator=data_collator,\n",
    "    compute_metrics=compute_metrics,\n",
    ")\n",
    "\n",
    "trainer.train()"
   ]
  },
  {
   "cell_type": "code",
   "execution_count": 37,
   "metadata": {},
   "outputs": [
    {
     "name": "stderr",
     "output_type": "stream",
     "text": [
      "100%|██████████| 4527/4527 [00:59<00:00, 76.32it/s]\n"
     ]
    }
   ],
   "source": [
    "device = 'cuda' if torch.cuda.is_available() else 'cpu'\n",
    "\n",
    "preds = []\n",
    "for i in tqdm(df_test['code'].values):\n",
    "    with torch.no_grad():\n",
    "        inputs = tokenizer(i, return_tensors=\"pt\", truncation=True).to(device)\n",
    "        logits = model(**inputs).logits\n",
    "        predicted_class_id = logits.argmax().item()\n",
    "        preds.append(predicted_class_id)\n",
    "        "
   ]
  },
  {
   "cell_type": "code",
   "execution_count": 18,
   "metadata": {},
   "outputs": [
    {
     "name": "stdout",
     "output_type": "stream",
     "text": [
      "              precision    recall  f1-score   support\n",
      "\n",
      "           0       0.94      1.00      0.97      9472\n",
      "           1       0.99      0.43      0.60      1153\n",
      "\n",
      "    accuracy                           0.94     10625\n",
      "   macro avg       0.96      0.72      0.79     10625\n",
      "weighted avg       0.94      0.94      0.93     10625\n",
      "\n"
     ]
    }
   ],
   "source": [
    "from sklearn.metrics import classification_report\n",
    "print(classification_report([i for i in df_test['Label'].values], preds))"
   ]
  },
  {
   "cell_type": "code",
   "execution_count": 38,
   "metadata": {},
   "outputs": [
    {
     "data": {
      "image/png": "[encoded data removed]",
      "text/plain": [
       "<Figure size 1000x700 with 2 Axes>"
      ]
     },
     "metadata": {},
     "output_type": "display_data"
    }
   ],
   "source": [
    "from sklearn.metrics import confusion_matrix\n",
    "import seaborn as sns\n",
    "\n",
    "import matplotlib.pyplot as plt\n",
    "\n",
    "# Compute the confusion matrix\n",
    "cm = confusion_matrix(df_test['Label'].values, preds)\n",
    "\n",
    "# Plot the confusion matrix\n",
    "plt.figure(figsize=(10, 7))\n",
    "sns.heatmap(cm, annot=True, fmt='d', cmap='Blues', xticklabels=['Non-Vulnerable', 'Vulnerable'], yticklabels=['Non-Vulnerable', 'Vulnerable'])\n",
    "plt.xlabel('Predicted')\n",
    "plt.ylabel('Actual')\n",
    "plt.title('Confusion Matrix')\n",
    "plt.show()"
   ]
  }
 ],
 "metadata": {
  "kernelspec": {
   "display_name": "Python 3",
   "language": "python",
   "name": "python3"
  },
  "language_info": {
   "codemirror_mode": {
    "name": "ipython",
    "version": 3
   },
   "file_extension": ".py",
   "mimetype": "text/x-python",
   "name": "python",
   "nbconvert_exporter": "python",
   "pygments_lexer": "ipython3",
   "version": "3.12.7"
  }
 },
 "nbformat": 4,
 "nbformat_minor": 2
}
