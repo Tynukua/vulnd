{
 "cells": [
  {
   "cell_type": "code",
   "execution_count": 1,
   "metadata": {},
   "outputs": [
    {
     "name": "stdout",
     "output_type": "stream",
     "text": [
      "WARNING:tensorflow:From C:\\Users\\bowsw\\AppData\\Roaming\\Python\\Python312\\site-packages\\tf_keras\\src\\losses.py:2976: The name tf.losses.sparse_softmax_cross_entropy is deprecated. Please use tf.compat.v1.losses.sparse_softmax_cross_entropy instead.\n",
      "\n"
     ]
    }
   ],
   "source": [
    "import pandas as pd\n",
    "\n",
    "from tqdm import tqdm\n",
    "\n",
    "from transformers import ( RobertaTokenizer)\n",
    "from datasets import Dataset, load_from_disk\n",
    "\n",
    "from transformers import RobertaTokenizer\n",
    "from transformers import DataCollatorWithPadding\n",
    "from transformers import AutoModelForSequenceClassification, TrainingArguments, Trainer\n",
    "import multiprocessing\n",
    "import torch\n",
    "\n",
    "import evaluate\n",
    "import numpy as np\n",
    "import pandas as pd\n",
    "from sklearn.model_selection import train_test_split"
   ]
  },
  {
   "cell_type": "code",
   "execution_count": 2,
   "metadata": {},
   "outputs": [
    {
     "data": {
      "text/html": [
       "<div>\n",
       "<style scoped>\n",
       "    .dataframe tbody tr th:only-of-type {\n",
       "        vertical-align: middle;\n",
       "    }\n",
       "\n",
       "    .dataframe tbody tr th {\n",
       "        vertical-align: top;\n",
       "    }\n",
       "\n",
       "    .dataframe thead th {\n",
       "        text-align: right;\n",
       "    }\n",
       "</style>\n",
       "<table border=\"1\" class=\"dataframe\">\n",
       "  <thead>\n",
       "    <tr style=\"text-align: right;\">\n",
       "      <th></th>\n",
       "      <th>code</th>\n",
       "      <th>CWE-Type</th>\n",
       "      <th>DataType</th>\n",
       "    </tr>\n",
       "  </thead>\n",
       "  <tbody>\n",
       "    <tr>\n",
       "      <th>0</th>\n",
       "      <td>\\n \\n \\n #include \"IncludeMarker\"\\n \\n #includ...</td>\n",
       "      <td>CWE114</td>\n",
       "      <td>SARD</td>\n",
       "    </tr>\n",
       "    <tr>\n",
       "      <th>1</th>\n",
       "      <td>\\n \\n \\n #include \"IncludeMarker\"\\n \\n #includ...</td>\n",
       "      <td>CWE114</td>\n",
       "      <td>SARD</td>\n",
       "    </tr>\n",
       "    <tr>\n",
       "      <th>2</th>\n",
       "      <td>\\n \\n \\n #include \"IncludeMarker\"\\n \\n #includ...</td>\n",
       "      <td>CWE114</td>\n",
       "      <td>SARD</td>\n",
       "    </tr>\n",
       "    <tr>\n",
       "      <th>3</th>\n",
       "      <td>\\n \\n \\n #include \"IncludeMarker\"\\n \\n #includ...</td>\n",
       "      <td>CWE114</td>\n",
       "      <td>SARD</td>\n",
       "    </tr>\n",
       "    <tr>\n",
       "      <th>4</th>\n",
       "      <td>\\n \\n \\n #include \"IncludeMarker\"\\n \\n #includ...</td>\n",
       "      <td>CWE114</td>\n",
       "      <td>SARD</td>\n",
       "    </tr>\n",
       "  </tbody>\n",
       "</table>\n",
       "</div>"
      ],
      "text/plain": [
       "                                                code CWE-Type DataType\n",
       "0  \\n \\n \\n #include \"IncludeMarker\"\\n \\n #includ...   CWE114     SARD\n",
       "1  \\n \\n \\n #include \"IncludeMarker\"\\n \\n #includ...   CWE114     SARD\n",
       "2  \\n \\n \\n #include \"IncludeMarker\"\\n \\n #includ...   CWE114     SARD\n",
       "3  \\n \\n \\n #include \"IncludeMarker\"\\n \\n #includ...   CWE114     SARD\n",
       "4  \\n \\n \\n #include \"IncludeMarker\"\\n \\n #includ...   CWE114     SARD"
      ]
     },
     "execution_count": 2,
     "metadata": {},
     "output_type": "execute_result"
    }
   ],
   "source": [
    "df = pd.read_csv('../datasets/multi_sard_all_data_marked.csv')\n",
    "df.head()"
   ]
  },
  {
   "cell_type": "code",
   "execution_count": 3,
   "metadata": {},
   "outputs": [
    {
     "data": {
      "text/plain": [
       "CWE-Type\n",
       "CWE114     648\n",
       "CWE121    5703\n",
       "CWE122    3531\n",
       "CWE124    1824\n",
       "CWE126    1332\n",
       "CWE127    1824\n",
       "CWE134    3240\n",
       "CWE190    4860\n",
       "CWE191    3726\n",
       "CWE194    1307\n",
       "CWE195    1308\n",
       "CWE197     979\n",
       "CWE252     630\n",
       "CWE253     684\n",
       "CWE369     972\n",
       "CWE400     810\n",
       "CWE401    1188\n",
       "CWE427     540\n",
       "CWE457     616\n",
       "CWE590     864\n",
       "CWE606     540\n",
       "CWE690    1091\n",
       "CWE761     648\n",
       "CWE78     5400\n",
       "CWE789     540\n",
       "CWE90      540\n",
       "dtype: int64"
      ]
     },
     "execution_count": 3,
     "metadata": {},
     "output_type": "execute_result"
    }
   ],
   "source": [
    "cwe_counts = df['CWE-Type'].value_counts()\n",
    "df = df[df['CWE-Type'].isin(cwe_counts[cwe_counts >= 500].index)]\n",
    "cwe_counts = cwe_counts[cwe_counts >= 500]\n",
    "df.groupby('CWE-Type').size()"
   ]
  },
  {
   "cell_type": "code",
   "execution_count": 4,
   "metadata": {},
   "outputs": [
    {
     "data": {
      "text/plain": [
       "{'CWE121': 0,\n",
       " 'CWE78': 1,\n",
       " 'CWE190': 2,\n",
       " 'CWE191': 3,\n",
       " 'CWE122': 4,\n",
       " 'CWE134': 5,\n",
       " 'CWE124': 6,\n",
       " 'CWE127': 7,\n",
       " 'CWE126': 8,\n",
       " 'CWE195': 9,\n",
       " 'CWE194': 10,\n",
       " 'CWE401': 11,\n",
       " 'CWE690': 12,\n",
       " 'CWE197': 13,\n",
       " 'CWE369': 14,\n",
       " 'CWE590': 15,\n",
       " 'CWE400': 16,\n",
       " 'CWE253': 17,\n",
       " 'CWE761': 18,\n",
       " 'CWE114': 19,\n",
       " 'CWE252': 20,\n",
       " 'CWE457': 21,\n",
       " 'CWE427': 22,\n",
       " 'CWE789': 23,\n",
       " 'CWE90': 24,\n",
       " 'CWE606': 25}"
      ]
     },
     "execution_count": 4,
     "metadata": {},
     "output_type": "execute_result"
    }
   ],
   "source": [
    "# Create a map for CWE type into label\n",
    "cwe_to_label = {cwe: idx for idx, cwe in enumerate(cwe_counts.index)}\n",
    "\n",
    "# Create a map for label into CWE type\n",
    "label_to_cwe = {idx: cwe for cwe, idx in cwe_to_label.items()}\n",
    "\n",
    "cwe_to_label"
   ]
  },
  {
   "cell_type": "code",
   "execution_count": 5,
   "metadata": {},
   "outputs": [
    {
     "data": {
      "text/html": [
       "<div>\n",
       "<style scoped>\n",
       "    .dataframe tbody tr th:only-of-type {\n",
       "        vertical-align: middle;\n",
       "    }\n",
       "\n",
       "    .dataframe tbody tr th {\n",
       "        vertical-align: top;\n",
       "    }\n",
       "\n",
       "    .dataframe thead th {\n",
       "        text-align: right;\n",
       "    }\n",
       "</style>\n",
       "<table border=\"1\" class=\"dataframe\">\n",
       "  <thead>\n",
       "    <tr style=\"text-align: right;\">\n",
       "      <th></th>\n",
       "      <th>code</th>\n",
       "      <th>CWE-Type</th>\n",
       "      <th>DataType</th>\n",
       "      <th>label</th>\n",
       "    </tr>\n",
       "  </thead>\n",
       "  <tbody>\n",
       "    <tr>\n",
       "      <th>0</th>\n",
       "      <td>\\n \\n \\n #include \"IncludeMarker\"\\n \\n #includ...</td>\n",
       "      <td>CWE114</td>\n",
       "      <td>SARD</td>\n",
       "      <td>19</td>\n",
       "    </tr>\n",
       "    <tr>\n",
       "      <th>1</th>\n",
       "      <td>\\n \\n \\n #include \"IncludeMarker\"\\n \\n #includ...</td>\n",
       "      <td>CWE114</td>\n",
       "      <td>SARD</td>\n",
       "      <td>19</td>\n",
       "    </tr>\n",
       "    <tr>\n",
       "      <th>2</th>\n",
       "      <td>\\n \\n \\n #include \"IncludeMarker\"\\n \\n #includ...</td>\n",
       "      <td>CWE114</td>\n",
       "      <td>SARD</td>\n",
       "      <td>19</td>\n",
       "    </tr>\n",
       "    <tr>\n",
       "      <th>3</th>\n",
       "      <td>\\n \\n \\n #include \"IncludeMarker\"\\n \\n #includ...</td>\n",
       "      <td>CWE114</td>\n",
       "      <td>SARD</td>\n",
       "      <td>19</td>\n",
       "    </tr>\n",
       "    <tr>\n",
       "      <th>4</th>\n",
       "      <td>\\n \\n \\n #include \"IncludeMarker\"\\n \\n #includ...</td>\n",
       "      <td>CWE114</td>\n",
       "      <td>SARD</td>\n",
       "      <td>19</td>\n",
       "    </tr>\n",
       "  </tbody>\n",
       "</table>\n",
       "</div>"
      ],
      "text/plain": [
       "                                                code CWE-Type DataType  label\n",
       "0  \\n \\n \\n #include \"IncludeMarker\"\\n \\n #includ...   CWE114     SARD     19\n",
       "1  \\n \\n \\n #include \"IncludeMarker\"\\n \\n #includ...   CWE114     SARD     19\n",
       "2  \\n \\n \\n #include \"IncludeMarker\"\\n \\n #includ...   CWE114     SARD     19\n",
       "3  \\n \\n \\n #include \"IncludeMarker\"\\n \\n #includ...   CWE114     SARD     19\n",
       "4  \\n \\n \\n #include \"IncludeMarker\"\\n \\n #includ...   CWE114     SARD     19"
      ]
     },
     "execution_count": 5,
     "metadata": {},
     "output_type": "execute_result"
    }
   ],
   "source": [
    "# Add a new column 'label' to the dataframe by mapping 'CWE-Type' to labels\n",
    "df['label'] = df['CWE-Type'].map(cwe_to_label)\n",
    "df.head()"
   ]
  },
  {
   "cell_type": "code",
   "execution_count": 6,
   "metadata": {},
   "outputs": [
    {
     "data": {
      "text/plain": [
       "(                                                    code CWE-Type DataType  \\\n",
       " 30908  \\n \\n \\n #include \"IncludeMarker\"\\n \\n #ifndef...   CWE252     SARD   \n",
       " 20742  \\n \\n \\n #include \"IncludeMarker\"\\n \\n #ifndef...   CWE190     SARD   \n",
       " 21250  \\n \\n \\n #include \"IncludeMarker\"\\n \\n #ifndef...   CWE190     SARD   \n",
       " 19243  \\n \\n \\n #include \"IncludeMarker\"\\n \\n #ifndef...   CWE190     SARD   \n",
       " 28659  \\n \\n \\n #include \"IncludeMarker\"\\n \\n #define...   CWE195     SARD   \n",
       " ...                                                  ...      ...      ...   \n",
       " 11446  \\n \\n \\n #include \"IncludeMarker\"\\n \\n #includ...   CWE124     SARD   \n",
       " 51993  \\n \\n \\n #include \"IncludeMarker\"\\n \\n #includ...    CWE78     SARD   \n",
       " 44745  \\n \\n \\n #include \"IncludeMarker\"\\n \\n #includ...   CWE690     SARD   \n",
       " 860    \\n \\n \\n #include \"IncludeMarker\"\\n \\n #ifndef...   CWE121     SARD   \n",
       " 15957  \\n \\n \\n #include <IncludeMarker>\\n #include \"...   CWE134     SARD   \n",
       " \n",
       "        label  \n",
       " 30908     20  \n",
       " 20742      2  \n",
       " 21250      2  \n",
       " 19243      2  \n",
       " 28659      9  \n",
       " ...      ...  \n",
       " 11446      6  \n",
       " 51993      1  \n",
       " 44745     12  \n",
       " 860        0  \n",
       " 15957      5  \n",
       " \n",
       " [40810 rows x 4 columns],\n",
       "                                                     code CWE-Type DataType  \\\n",
       " 19366  \\n \\n \\n #include \"IncludeMarker\"\\n \\n #includ...   CWE190     SARD   \n",
       " 18036  \\n \\n \\n #include \"IncludeMarker\"\\n \\n #ifndef...   CWE134     SARD   \n",
       " 51684  \\n \\n \\n #include \"IncludeMarker\"\\n \\n #includ...    CWE78     SARD   \n",
       " 42129  \\n \\n \\n #include \"IncludeMarker\"\\n \\n #define...   CWE606     SARD   \n",
       " 41675  \\n \\n \\n #include \"IncludeMarker\"\\n \\n #includ...   CWE590     SARD   \n",
       " ...                                                  ...      ...      ...   \n",
       " 2666   \\n \\n \\n #include \"IncludeMarker\"\\n \\n #includ...   CWE121     SARD   \n",
       " 6217   \\n \\n \\n #include \"IncludeMarker\"\\n \\n #includ...   CWE121     SARD   \n",
       " 10513  \\n \\n \\n #include \"IncludeMarker\"\\n \\n #includ...   CWE124     SARD   \n",
       " 24688  \\n \\n \\n #include \"IncludeMarker\"\\n \\n #ifndef...   CWE191     SARD   \n",
       " 21803  \\n \\n \\n #include \"IncludeMarker\"\\n \\n #ifndef...   CWE190     SARD   \n",
       " \n",
       "        label  \n",
       " 19366      2  \n",
       " 18036      5  \n",
       " 51684      1  \n",
       " 42129     25  \n",
       " 41675     15  \n",
       " ...      ...  \n",
       " 2666       0  \n",
       " 6217       0  \n",
       " 10513      6  \n",
       " 24688      3  \n",
       " 21803      2  \n",
       " \n",
       " [4535 rows x 4 columns])"
      ]
     },
     "execution_count": 6,
     "metadata": {},
     "output_type": "execute_result"
    }
   ],
   "source": [
    "from sklearn.model_selection import train_test_split\n",
    "\n",
    "random_state = 42\n",
    "df_train, df_test = train_test_split(df, test_size=0.1, random_state=random_state)\n",
    "df_train, df_test"
   ]
  },
  {
   "cell_type": "code",
   "execution_count": 7,
   "metadata": {},
   "outputs": [],
   "source": [
    "dataset = {}\n",
    "dataset['text'] = list(df_train['code'])\n",
    "dataset['label'] = list(df_train['label'])\n",
    "ds = Dataset.from_dict(dataset)\n",
    "ds = ds.train_test_split(test_size=0.1)"
   ]
  },
  {
   "cell_type": "code",
   "execution_count": 8,
   "metadata": {},
   "outputs": [],
   "source": [
    "tokenizer = RobertaTokenizer.from_pretrained('microsoft/codebert-base-mlm', cache_dir=\"D://hubface_cache\")"
   ]
  },
  {
   "cell_type": "code",
   "execution_count": 9,
   "metadata": {},
   "outputs": [
    {
     "data": {
      "application/vnd.jupyter.widget-view+json": {
       "model_id": "8f5425bf110e45659cc28f2eeef7afaa",
       "version_major": 2,
       "version_minor": 0
      },
      "text/plain": [
       "Map:   0%|          | 0/36729 [00:00<?, ? examples/s]"
      ]
     },
     "metadata": {},
     "output_type": "display_data"
    },
    {
     "data": {
      "application/vnd.jupyter.widget-view+json": {
       "model_id": "ebb1ab55c16c4d6d830c2c92c9503fff",
       "version_major": 2,
       "version_minor": 0
      },
      "text/plain": [
       "Map:   0%|          | 0/4081 [00:00<?, ? examples/s]"
      ]
     },
     "metadata": {},
     "output_type": "display_data"
    }
   ],
   "source": [
    "def preprocess_function(examples):\n",
    "    return tokenizer(examples[\"text\"], truncation=True)\n",
    "\n",
    "tokenized_dataset = ds.map(preprocess_function, batched=True)"
   ]
  },
  {
   "cell_type": "code",
   "execution_count": 10,
   "metadata": {},
   "outputs": [
    {
     "data": {
      "application/vnd.jupyter.widget-view+json": {
       "model_id": "b252a6ca71e64738ad0f8b9afc9580c9",
       "version_major": 2,
       "version_minor": 0
      },
      "text/plain": [
       "Saving the dataset (0/1 shards):   0%|          | 0/36729 [00:00<?, ? examples/s]"
      ]
     },
     "metadata": {},
     "output_type": "display_data"
    },
    {
     "data": {
      "application/vnd.jupyter.widget-view+json": {
       "model_id": "12ee827b138549e482ebe833af3e1b9c",
       "version_major": 2,
       "version_minor": 0
      },
      "text/plain": [
       "Saving the dataset (0/1 shards):   0%|          | 0/4081 [00:00<?, ? examples/s]"
      ]
     },
     "metadata": {},
     "output_type": "display_data"
    }
   ],
   "source": [
    "tokenized_dataset.save_to_disk(\"../datasets/multi_sard_all_data_marked_tokenized_dataset\")"
   ]
  },
  {
   "cell_type": "code",
   "execution_count": 11,
   "metadata": {},
   "outputs": [],
   "source": [
    "tokenized_dataset = load_from_disk(\"../datasets/multi_sard_all_data_marked_tokenized_dataset\")"
   ]
  },
  {
   "cell_type": "code",
   "execution_count": 12,
   "metadata": {},
   "outputs": [],
   "source": [
    "data_collator = DataCollatorWithPadding(tokenizer=tokenizer)"
   ]
  },
  {
   "cell_type": "code",
   "execution_count": 13,
   "metadata": {},
   "outputs": [],
   "source": [
    "accuracy = evaluate.load(\"accuracy\")\n",
    "\n",
    "def compute_metrics(eval_pred):\n",
    "    predictions, labels = eval_pred\n",
    "    predictions = np.argmax(predictions, axis=1)\n",
    "    return accuracy.compute(predictions=predictions, references=labels)"
   ]
  },
  {
   "cell_type": "code",
   "execution_count": 14,
   "metadata": {},
   "outputs": [
    {
     "name": "stderr",
     "output_type": "stream",
     "text": [
      "Some weights of RobertaForSequenceClassification were not initialized from the model checkpoint at microsoft/codebert-base-mlm and are newly initialized: ['classifier.dense.bias', 'classifier.dense.weight', 'classifier.out_proj.bias', 'classifier.out_proj.weight']\n",
      "You should probably TRAIN this model on a down-stream task to be able to use it for predictions and inference.\n"
     ]
    }
   ],
   "source": [
    "model = AutoModelForSequenceClassification.from_pretrained(\n",
    "    \"microsoft/codebert-base-mlm\", num_labels=len(cwe_to_label.keys()), cache_dir=\"D://hubface_cache\"\n",
    ")"
   ]
  },
  {
   "cell_type": "code",
   "execution_count": 15,
   "metadata": {},
   "outputs": [
    {
     "name": "stderr",
     "output_type": "stream",
     "text": [
      "C:\\Users\\bowsw\\AppData\\Roaming\\Python\\Python312\\site-packages\\transformers\\training_args.py:1575: FutureWarning: `evaluation_strategy` is deprecated and will be removed in version 4.46 of 🤗 Transformers. Use `eval_strategy` instead\n",
      "  warnings.warn(\n",
      "C:\\Users\\bowsw\\AppData\\Local\\Temp\\ipykernel_21136\\565366963.py:14: FutureWarning: `tokenizer` is deprecated and will be removed in version 5.0.0 for `Trainer.__init__`. Use `processing_class` instead.\n",
      "  trainer = Trainer(\n"
     ]
    },
    {
     "data": {
      "text/html": [
       "\n",
       "    <div>\n",
       "      \n",
       "      <progress value='2296' max='2296' style='width:300px; height:20px; vertical-align: middle;'></progress>\n",
       "      [2296/2296 15:44, Epoch 1/1]\n",
       "    </div>\n",
       "    <table border=\"1\" class=\"dataframe\">\n",
       "  <thead>\n",
       " <tr style=\"text-align: left;\">\n",
       "      <th>Epoch</th>\n",
       "      <th>Training Loss</th>\n",
       "      <th>Validation Loss</th>\n",
       "      <th>Accuracy</th>\n",
       "    </tr>\n",
       "  </thead>\n",
       "  <tbody>\n",
       "    <tr>\n",
       "      <td>1</td>\n",
       "      <td>0.252400</td>\n",
       "      <td>0.206208</td>\n",
       "      <td>0.919383</td>\n",
       "    </tr>\n",
       "  </tbody>\n",
       "</table><p>"
      ],
      "text/plain": [
       "<IPython.core.display.HTML object>"
      ]
     },
     "metadata": {},
     "output_type": "display_data"
    },
    {
     "data": {
      "text/plain": [
       "TrainOutput(global_step=2296, training_loss=0.6390516733043285, metrics={'train_runtime': 945.0745, 'train_samples_per_second': 38.864, 'train_steps_per_second': 2.429, 'total_flos': 9665888370259968.0, 'train_loss': 0.6390516733043285, 'epoch': 1.0})"
      ]
     },
     "execution_count": 15,
     "metadata": {},
     "output_type": "execute_result"
    }
   ],
   "source": [
    "training_args = TrainingArguments(\n",
    "    output_dir=\"trained_model\",\n",
    "    learning_rate=2e-5,\n",
    "    per_device_train_batch_size=16,\n",
    "    per_device_eval_batch_size=16,\n",
    "    num_train_epochs=1,\n",
    "    weight_decay=0.01,\n",
    "    evaluation_strategy=\"epoch\",\n",
    "    save_strategy=\"epoch\",\n",
    "    load_best_model_at_end=True,\n",
    "    report_to=\"none\"\n",
    ")\n",
    "\n",
    "trainer = Trainer(\n",
    "    model=model,\n",
    "    args=training_args,\n",
    "    train_dataset=tokenized_dataset[\"train\"],\n",
    "    eval_dataset=tokenized_dataset[\"test\"],\n",
    "    tokenizer=tokenizer,\n",
    "    data_collator=data_collator,\n",
    "    compute_metrics=compute_metrics,\n",
    ")\n",
    "\n",
    "trainer.train()"
   ]
  },
  {
   "cell_type": "code",
   "execution_count": 16,
   "metadata": {},
   "outputs": [
    {
     "name": "stderr",
     "output_type": "stream",
     "text": [
      "100%|██████████| 4535/4535 [01:05<00:00, 69.03it/s]\n"
     ]
    }
   ],
   "source": [
    "device = 'cuda' if torch.cuda.is_available() else 'cpu'\n",
    "\n",
    "preds = []\n",
    "for i in tqdm(df_test['code'].values):\n",
    "    with torch.no_grad():\n",
    "        inputs = tokenizer(i, return_tensors=\"pt\", truncation=True).to(device)\n",
    "        logits = model(**inputs).logits\n",
    "        predicted_class_id = logits.argmax().item()\n",
    "        preds.append(predicted_class_id)\n",
    "        "
   ]
  },
  {
   "cell_type": "code",
   "execution_count": 17,
   "metadata": {},
   "outputs": [
    {
     "name": "stdout",
     "output_type": "stream",
     "text": [
      "              precision    recall  f1-score   support\n",
      "\n",
      "           0       0.90      0.93      0.91       576\n",
      "           1       1.00      1.00      1.00       538\n",
      "           2       0.90      0.94      0.92       489\n",
      "           3       0.86      0.88      0.87       360\n",
      "           4       1.00      0.85      0.92       339\n",
      "           5       1.00      1.00      1.00       316\n",
      "           6       0.75      0.61      0.68       153\n",
      "           7       0.69      0.79      0.74       195\n",
      "           8       0.93      0.80      0.86       143\n",
      "           9       0.86      0.91      0.89       140\n",
      "          10       0.97      1.00      0.99       133\n",
      "          11       0.98      1.00      0.99       117\n",
      "          12       1.00      0.99      1.00       122\n",
      "          13       1.00      0.72      0.84        87\n",
      "          14       0.61      0.90      0.73        89\n",
      "          15       0.99      0.96      0.97        89\n",
      "          16       1.00      1.00      1.00        89\n",
      "          17       0.94      1.00      0.97        76\n",
      "          18       1.00      0.90      0.95        62\n",
      "          19       0.92      1.00      0.96        69\n",
      "          20       1.00      0.93      0.96        72\n",
      "          21       1.00      0.97      0.98        67\n",
      "          22       1.00      1.00      1.00        46\n",
      "          23       1.00      1.00      1.00        66\n",
      "          24       1.00      1.00      1.00        51\n",
      "          25       1.00      1.00      1.00        51\n",
      "\n",
      "    accuracy                           0.92      4535\n",
      "   macro avg       0.93      0.93      0.93      4535\n",
      "weighted avg       0.93      0.92      0.92      4535\n",
      "\n"
     ]
    }
   ],
   "source": [
    "from sklearn.metrics import classification_report\n",
    "print(classification_report([i for i in df_test['label'].values], preds))\n",
    "\n"
   ]
  },
  {
   "cell_type": "code",
   "execution_count": 18,
   "metadata": {},
   "outputs": [
    {
     "data": {
      "text/plain": [
       "CWE-Type\n",
       "CWE121    576\n",
       "CWE78     538\n",
       "CWE190    489\n",
       "CWE191    360\n",
       "CWE122    339\n",
       "CWE134    316\n",
       "CWE127    195\n",
       "CWE124    153\n",
       "CWE126    143\n",
       "CWE195    140\n",
       "CWE194    133\n",
       "CWE690    122\n",
       "CWE401    117\n",
       "CWE590     89\n",
       "CWE369     89\n",
       "CWE400     89\n",
       "CWE197     87\n",
       "CWE253     76\n",
       "CWE252     72\n",
       "CWE114     69\n",
       "CWE457     67\n",
       "CWE789     66\n",
       "CWE761     62\n",
       "CWE90      51\n",
       "CWE606     51\n",
       "CWE427     46\n",
       "Name: count, dtype: int64"
      ]
     },
     "execution_count": 18,
     "metadata": {},
     "output_type": "execute_result"
    }
   ],
   "source": [
    "df_test['CWE-Type'].value_counts()"
   ]
  },
  {
   "cell_type": "code",
   "execution_count": 19,
   "metadata": {},
   "outputs": [
    {
     "data": {
      "image/png": "[encoded data removed]",
      "text/plain": [
       "<Figure size 1200x1000 with 2 Axes>"
      ]
     },
     "metadata": {},
     "output_type": "display_data"
    }
   ],
   "source": [
    "from sklearn.metrics import confusion_matrix\n",
    "import seaborn as sns\n",
    "\n",
    "import matplotlib.pyplot as plt\n",
    "# Generate the confusion matrix\n",
    "cm = confusion_matrix(df_test['label'], preds)\n",
    "\n",
    "# Plot the confusion matrix\n",
    "plt.figure(figsize=(12, 10))\n",
    "sns.heatmap(cm, annot=True, fmt='d', cmap='Blues', xticklabels=label_to_cwe.values(), yticklabels=label_to_cwe.values())\n",
    "plt.xlabel('Predicted')\n",
    "plt.ylabel('True')\n",
    "plt.title('Confusion Matrix')\n",
    "\n",
    "plt.show()"
   ]
  }
 ],
 "metadata": {
  "kernelspec": {
   "display_name": "Python 3",
   "language": "python",
   "name": "python3"
  },
  "language_info": {
   "codemirror_mode": {
    "name": "ipython",
    "version": 3
   },
   "file_extension": ".py",
   "mimetype": "text/x-python",
   "name": "python",
   "nbconvert_exporter": "python",
   "pygments_lexer": "ipython3",
   "version": "3.12.7"
  }
 },
 "nbformat": 4,
 "nbformat_minor": 2
}
