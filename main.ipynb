{
 "cells": [
  {
   "cell_type": "code",
   "execution_count": 11,
   "metadata": {},
   "outputs": [
    {
     "data": {
      "text/plain": [
       "True"
      ]
     },
     "execution_count": 11,
     "metadata": {},
     "output_type": "execute_result"
    }
   ],
   "source": [
    "import dotenv\n",
    "\n",
    "dotenv.load_dotenv()"
   ]
  },
  {
   "cell_type": "code",
   "execution_count": 12,
   "metadata": {},
   "outputs": [],
   "source": [
    "from langchain.chat_models import init_chat_model\n",
    "\n",
    "model = init_chat_model(\"gpt-4o-mini\", model_provider=\"openai\")\n"
   ]
  },
  {
   "cell_type": "code",
   "execution_count": 13,
   "metadata": {},
   "outputs": [],
   "source": [
    "from langchain.prompts import PromptTemplate\n",
    "\n",
    "prompt = PromptTemplate.from_template(\n",
    "    \"\"\"\n",
    "Analyze the every following code.\n",
    "After anylyzing try to find some vulnerabilities in the code.\n",
    "Here is a list of i wanna find: \n",
    "    - Reentrency Attack: Reentrancy is a vulnerability that allows an attacker to re-enter a function multiple times before the first function call is finished. so whenever the contract makes external call to other addresses, this is a possibility for reentrancy attack.This can lead to unexpected behavior, including reordering of transactions, and can be used to drain funds from a contract. \n",
    "    - Replay signatures attacks: The original account will sign a message then the delivery account will send the message to a smart contract, that way it is the delivery account that pays for the transaction fees and not the original account.\n",
    "If you find anything, please provide a list of them in JSON format. Escape quotes in the JSON with a backslash. \n",
    "The JSON should contain the following fields:\n",
    "- \"line\": The line number where the issue occurs.\n",
    "- \"token\": The specific code token that is problematic.\n",
    "- \"problem\": A short name for the issue.\n",
    "- \"severity\": The severity of the issue (low, high).\n",
    "- \"explanation\": A brief explanation of why this is a security risk.\n",
    "- \"migration\": A brief explanation of how to fix this issue.\n",
    "Code:\n",
    "{code}\n",
    "\"\"\"\n",
    ")"
   ]
  },
  {
   "cell_type": "code",
   "execution_count": 14,
   "metadata": {},
   "outputs": [
    {
     "name": "stdout",
     "output_type": "stream",
     "text": [
      "['// SPDX-License-Identifier: MIT\\npragma solidity ^0.8.0;\\n\\ncontract PiggyBank{\\n    mapping(address => uint) public credit;\\n    \\n    function deposit() public payable {\\n        credit[msg.sender] += msg.value;\\n    }\\n\\n    function withdraw(uint amount) public{\\n        if (credit[msg.sender]>= amount) {\\n            require(msg.sender.call.value(amount)());\\n            credit[msg.sender]-=amount;\\n        }\\n    }\\n}', '// SPDX-License-Identifier: MIT\\npragma solidity ^0.8.0;\\n\\ncontract PiggyBank is ReentrancyGuard {\\n    mapping(address => uint) public credit;\\n\\n    function deposit() public payable {\\n        credit[msg.sender] += msg.value;\\n    }\\n\\n    function withdraw(uint amount) public nonReentrant {\\n        require(credit[msg.sender] >= amount, \"Insufficient balance\");\\n        \\n        credit[msg.sender] -= amount; // Effect: Update state before transferring funds\\n        \\n        (bool success,) = payable(msg.sender).call{value: amount}(\"\"); // Interaction: Transfer funds last\\n        require(success, \"Transfer failed\");\\n    }\\n}\\n', '// SPDX-License-Identifier: MIT\\npragma solidity ^0.8.0;\\n\\ncontract PiggyBridge {\\n    mapping(address => uint256) public balances;\\n    mapping(bytes32 => bool) public executedTxs;\\n\\n    function deposit() external payable {\\n        balances[msg.sender] += msg.value;\\n    }\\n\\n    function withdraw(uint256 amount, uint256 nonce, bytes memory signature) external nonReentrant {\\n        require(balances[msg.sender] >= amount, \"Insufficient balance\");\\n\\n        bytes32 messageHash = keccak256(abi.encodePacked(msg.sender, amount, nonce));\\n        require(!executedTxs[messageHash], \"Already executed\");\\n\\n        address signer = recoverSigner(messageHash, signature);\\n        require(signer == msg.sender, \"Invalid signature\");\\n\\n        executedTxs[messageHash] = true;\\n        balances[msg.sender] -= amount;\\n        payable(msg.sender).transfer(amount);\\n    }\\n\\n    function recoverSigner(bytes32 hash, bytes memory signature) public pure returns (address) {\\n        bytes32 ethSignedHash = keccak256(abi.encodePacked(\"\\\\x19Ethereum Signed Message:\\\\n32\", hash));\\n        (bytes32 r, bytes32 s, uint8 v) = splitSignature(signature);\\n        return ecrecover(ethSignedHash, v, r, s);\\n    }\\n\\n    function splitSignature(bytes memory sig) internal pure returns (bytes32 r, bytes32 s, uint8 v) {\\n        require(sig.length == 65, \"Invalid signature length\");\\n        assembly {\\n            r := mload(add(sig, 32))\\n            s := mload(add(sig, 64))\\n            v := byte(0, mload(add(sig, 96)))\\n        }\\n    }\\n}']\n"
     ]
    }
   ],
   "source": [
    "import os\n",
    "\n",
    "files = os.listdir('snippets')\n",
    "code_snippets = []\n",
    "for file in files:\n",
    "    with open(f'snippets/{file}', 'r') as f:\n",
    "        code_snippets.append(f.read())\n",
    "print(code_snippets)"
   ]
  },
  {
   "cell_type": "code",
   "execution_count": 15,
   "metadata": {},
   "outputs": [],
   "source": [
    "from langchain.chains import LLMChain\n",
    "chain = chain = prompt | model"
   ]
  },
  {
   "cell_type": "code",
   "execution_count": 16,
   "metadata": {},
   "outputs": [],
   "source": [
    "code = code_snippets[2]"
   ]
  },
  {
   "cell_type": "code",
   "execution_count": 17,
   "metadata": {},
   "outputs": [
    {
     "data": {
      "text/plain": [
       "AIMessage(content='Analyzing the given Solidity code for potential vulnerabilities, I have identified the following issues:\\n\\n```json\\n[\\n    {\\n        \"line\": 17,\\n        \"token\": \"payable(msg.sender).transfer(amount)\",\\n        \"problem\": \"Reentrancy Attack\",\\n        \"severity\": \"high\",\\n        \"explanation\": \"The contract transfers Ether to an external address before it updates the balance. This allows a malicious contract to re-enter the withdraw function before the state updates, potentially draining funds.\",\\n        \"migration\": \"Use a \\'checks-effects-interactions\\' pattern by first updating the state (e.g., balance) and then performing the external call. Consider using `call` for transferring Ether with a gas limit and preventing reentrancy.\"\\n    },\\n    {\\n        \"line\": 14,\\n        \"token\": \"bytes32 messageHash = keccak256(abi.encodePacked(msg.sender, amount, nonce))\",\\n        \"problem\": \"Replay Signature Attack\",\\n        \"severity\": \"high\",\\n        \"explanation\": \"If the nonce is reused or not unique for every transaction, an attacker could replay the signed message on a different transaction, leading to unauthorized withdrawals.\",\\n        \"migration\": \"Ensure that the nonce is unique for each withdrawal by incrementing it on every use or implementing a mechanism that prevents nonce reuse, effectively tying it to the user\\'s account state.\"\\n    }\\n]\\n```\\n\\n### Summary of Findings\\n1. **Reentrancy Attack**:\\n   - **Line**: 17\\n   - **Token**: `payable(msg.sender).transfer(amount)`\\n   - When transferring funds to an external address, it allows reentrancy unless careful precautions are taken.\\n\\n2. **Replay Signatures Attack**:\\n   - **Line**: 14\\n   - **Token**: `bytes32 messageHash = keccak256(abi.encodePacked(msg.sender, amount, nonce))`\\n   - The nonce used could potentially allow replay attacks if not properly managed, thus enabling unauthorized transactions. \\n\\n### Recommendations for Code Improvements\\n- **Utilize the Checks-Effects-Interactions Pattern**: Update the state of variables before making external calls to minimize attack vectors.\\n- **Implement a Unique Nonce Management Strategy**: Ensure each transaction nonce is unique and cannot be reused by an external actor.', additional_kwargs={'refusal': None}, response_metadata={'token_usage': {'completion_tokens': 466, 'prompt_tokens': 622, 'total_tokens': 1088, 'completion_tokens_details': {'accepted_prediction_tokens': 0, 'audio_tokens': 0, 'reasoning_tokens': 0, 'rejected_prediction_tokens': 0}, 'prompt_tokens_details': {'audio_tokens': 0, 'cached_tokens': 0}}, 'model_name': 'gpt-4o-mini-2024-07-18', 'system_fingerprint': 'fp_86d0290411', 'id': 'chatcmpl-BIZf3F28612lh4jFuK00YGE8bvNhL', 'finish_reason': 'stop', 'logprobs': None}, id='run-ea246425-4b59-4ff1-a393-3d8e7ddc7804-0', usage_metadata={'input_tokens': 622, 'output_tokens': 466, 'total_tokens': 1088, 'input_token_details': {'audio': 0, 'cache_read': 0}, 'output_token_details': {'audio': 0, 'reasoning': 0}})"
      ]
     },
     "execution_count": 17,
     "metadata": {},
     "output_type": "execute_result"
    }
   ],
   "source": [
    "result = chain.invoke({\"code\": code})\n",
    "result"
   ]
  },
  {
   "cell_type": "code",
   "execution_count": 20,
   "metadata": {},
   "outputs": [
    {
     "name": "stdout",
     "output_type": "stream",
     "text": [
      "// SPDX-License-Identifier: MIT\n",
      "pragma solidity ^0.8.0;\n",
      "\n",
      "contract PiggyBridge {\n",
      "    mapping(address => uint256) public balances;\n",
      "    mapping(bytes32 => bool) public executedTxs;\n",
      "\n",
      "    function deposit() external payable {\n",
      "        balances[msg.sender] += msg.value;\n",
      "    }\n",
      "\n",
      "    function withdraw(uint256 amount, uint256 nonce, bytes memory signature) external nonReentrant {\n",
      "        require(balances[msg.sender] >= amount, \"Insufficient balance\");\n",
      "\n",
      "        bytes32 messageHash = keccak256(abi.encodePacked(msg.sender, amount, nonce));\n",
      "        require(!executedTxs[messageHash], \"Already executed\");\n",
      "\n",
      "        address signer = recoverSigner(messageHash, signature);\n",
      "        require(signer == msg.sender, \"Invalid signature\");\n",
      "\n",
      "        executedTxs[messageHash] = true;\n",
      "        balances[msg.sender] -= amount;\n",
      "        payable(msg.sender).transfer(amount);\n",
      "    }\n",
      "\n",
      "    function recoverSigner(bytes32 hash, bytes memory signature) public pure returns (address) {\n",
      "        bytes32 ethSignedHash = keccak256(abi.encodePacked(\"\\x19Ethereum Signed Message:\\n32\", hash));\n",
      "        (bytes32 r, bytes32 s, uint8 v) = splitSignature(signature);\n",
      "        return ecrecover(ethSignedHash, v, r, s);\n",
      "    }\n",
      "\n",
      "    function splitSignature(bytes memory sig) internal pure returns (bytes32 r, bytes32 s, uint8 v) {\n",
      "        require(sig.length == 65, \"Invalid signature length\");\n",
      "        assembly {\n",
      "            r := mload(add(sig, 32))\n",
      "            s := mload(add(sig, 64))\n",
      "            v := byte(0, mload(add(sig, 96)))\n",
      "        }\n",
      "    }\n",
      "}\n",
      "Analyzing the given Solidity code for potential vulnerabilities, I have identified the following issues:\n",
      "\n",
      "```json\n",
      "[\n",
      "    {\n",
      "        \"line\": 17,\n",
      "        \"token\": \"payable(msg.sender).transfer(amount)\",\n",
      "        \"problem\": \"Reentrancy Attack\",\n",
      "        \"severity\": \"high\",\n",
      "        \"explanation\": \"The contract transfers Ether to an external address before it updates the balance. This allows a malicious contract to re-enter the withdraw function before the state updates, potentially draining funds.\",\n",
      "        \"migration\": \"Use a 'checks-effects-interactions' pattern by first updating the state (e.g., balance) and then performing the external call. Consider using `call` for transferring Ether with a gas limit and preventing reentrancy.\"\n",
      "    },\n",
      "    {\n",
      "        \"line\": 14,\n",
      "        \"token\": \"bytes32 messageHash = keccak256(abi.encodePacked(msg.sender, amount, nonce))\",\n",
      "        \"problem\": \"Replay Signature Attack\",\n",
      "        \"severity\": \"high\",\n",
      "        \"explanation\": \"If the nonce is reused or not unique for every transaction, an attacker could replay the signed message on a different transaction, leading to unauthorized withdrawals.\",\n",
      "        \"migration\": \"Ensure that the nonce is unique for each withdrawal by incrementing it on every use or implementing a mechanism that prevents nonce reuse, effectively tying it to the user's account state.\"\n",
      "    }\n",
      "]\n",
      "```\n",
      "\n",
      "### Summary of Findings\n",
      "1. **Reentrancy Attack**:\n",
      "   - **Line**: 17\n",
      "   - **Token**: `payable(msg.sender).transfer(amount)`\n",
      "   - When transferring funds to an external address, it allows reentrancy unless careful precautions are taken.\n",
      "\n",
      "2. **Replay Signatures Attack**:\n",
      "   - **Line**: 14\n",
      "   - **Token**: `bytes32 messageHash = keccak256(abi.encodePacked(msg.sender, amount, nonce))`\n",
      "   - The nonce used could potentially allow replay attacks if not properly managed, thus enabling unauthorized transactions. \n",
      "\n",
      "### Recommendations for Code Improvements\n",
      "- **Utilize the Checks-Effects-Interactions Pattern**: Update the state of variables before making external calls to minimize attack vectors.\n",
      "- **Implement a Unique Nonce Management Strategy**: Ensure each transaction nonce is unique and cannot be reused by an external actor.\n"
     ]
    }
   ],
   "source": [
    "result_text = result.content.strip('`json')\n",
    "print(code)\n",
    "print(result_text)"
   ]
  },
  {
   "cell_type": "code",
   "execution_count": 19,
   "metadata": {},
   "outputs": [
    {
     "data": {
      "text/plain": [
       "[{'line': 17,\n",
       "  'token': 'payable(msg.sender).transfer(amount)',\n",
       "  'problem': 'Reentrancy Attack',\n",
       "  'severity': 'high',\n",
       "  'explanation': 'The contract transfers Ether to an external address before it updates the balance. This allows a malicious contract to re-enter the withdraw function before the state updates, potentially draining funds.',\n",
       "  'migration': \"Use a 'checks-effects-interactions' pattern by first updating the state (e.g., balance) and then performing the external call. Consider using `call` for transferring Ether with a gas limit and preventing reentrancy.\"},\n",
       " {'line': 14,\n",
       "  'token': 'bytes32 messageHash = keccak256(abi.encodePacked(msg.sender, amount, nonce))',\n",
       "  'problem': 'Replay Signature Attack',\n",
       "  'severity': 'high',\n",
       "  'explanation': 'If the nonce is reused or not unique for every transaction, an attacker could replay the signed message on a different transaction, leading to unauthorized withdrawals.',\n",
       "  'migration': \"Ensure that the nonce is unique for each withdrawal by incrementing it on every use or implementing a mechanism that prevents nonce reuse, effectively tying it to the user's account state.\"}]"
      ]
     },
     "execution_count": 19,
     "metadata": {},
     "output_type": "execute_result"
    }
   ],
   "source": [
    "import json\n",
    "(result_text[result_text.find(\"```json\") + len(\"```json\"):result_text.find(\"```\", result_text.find(\"```json\") + len(\"```json\"))])\n",
    "json.loads(result_text[result_text.find(\"```json\") + len(\"```json\"):result_text.find(\"```\", result_text.find(\"```json\") + len(\"```json\"))])"
   ]
  }
 ],
 "metadata": {
  "kernelspec": {
   "display_name": "Python 3",
   "language": "python",
   "name": "python3"
  },
  "language_info": {
   "codemirror_mode": {
    "name": "ipython",
    "version": 3
   },
   "file_extension": ".py",
   "mimetype": "text/x-python",
   "name": "python",
   "nbconvert_exporter": "python",
   "pygments_lexer": "ipython3",
   "version": "3.12.7"
  }
 },
 "nbformat": 4,
 "nbformat_minor": 2
}
