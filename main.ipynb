{
 "cells": [
  {
   "cell_type": "code",
   "execution_count": 19,
   "metadata": {},
   "outputs": [
    {
     "data": {
      "text/plain": [
       "True"
      ]
     },
     "execution_count": 19,
     "metadata": {},
     "output_type": "execute_result"
    }
   ],
   "source": [
    "import dotenv\n",
    "\n",
    "dotenv.load_dotenv()"
   ]
  },
  {
   "cell_type": "code",
   "execution_count": 20,
   "metadata": {},
   "outputs": [],
   "source": [
    "from langchain.chat_models import init_chat_model\n",
    "\n",
    "model = init_chat_model(\"gpt-4o-mini\", model_provider=\"openai\")\n"
   ]
  },
  {
   "cell_type": "code",
   "execution_count": 21,
   "metadata": {},
   "outputs": [],
   "source": [
    "from langchain.prompts import PromptTemplate\n",
    "\n",
    "prompt = PromptTemplate.from_template(\n",
    "    \"\"\"\n",
    "Analyze the every following code.\n",
    "After anylyzing try to find some vulnerabilities in the code.\n",
    "Here is a list of i wanna find: \n",
    "    - Reentrency Attack: Reentrancy is a vulnerability that allows an attacker to re-enter a function multiple times before the first function call is finished. so whenever the contract makes external call to other addresses, this is a possibility for reentrancy attack.This can lead to unexpected behavior, including reordering of transactions, and can be used to drain funds from a contract. \n",
    "    - Replay signatures attacks: The original account will sign a message then the delivery account will send the message to a smart contract, that way it is the delivery account that pays for the transaction fees and not the original account.\n",
    "If you find anything, please provide a list of them in JSON format. Escape quotes in the JSON with a backslash. \n",
    "The JSON should contain the following fields:\n",
    "- \"line\": The line number where the issue occurs.\n",
    "- \"token\": The specific code token that is problematic.\n",
    "- \"problem\": A short name for the issue.\n",
    "- \"severity\": The severity of the issue (low, high).\n",
    "- \"explanation\": A brief explanation of why this is a security risk.\n",
    "- \"migration\": A brief explanation of how to fix this issue.\n",
    "Code:\n",
    "{code}\n",
    "\"\"\"\n",
    ")"
   ]
  },
  {
   "cell_type": "code",
   "execution_count": 22,
   "metadata": {},
   "outputs": [
    {
     "name": "stdout",
     "output_type": "stream",
     "text": [
      "['// SPDX-License-Identifier: MIT\\npragma solidity ^0.8.0;\\n\\ncontract PiggyBank{\\n    mapping(address => uint) public credit;\\n    \\n    function deposit() public payable {\\n        credit[msg.sender] += msg.value;\\n    }\\n\\n    function withdraw(uint amount) public{\\n        if (credit[msg.sender]>= amount) {\\n            require(msg.sender.call.value(amount)());\\n            credit[msg.sender]-=amount;\\n        }\\n    }\\n}', '// SPDX-License-Identifier: MIT\\npragma solidity ^0.8.0;\\n\\ncontract PiggyBank is ReentrancyGuard {\\n    mapping(address => uint) public credit;\\n\\n    function deposit() public payable {\\n        credit[msg.sender] += msg.value;\\n    }\\n\\n    function withdraw(uint amount) public nonReentrant {\\n        require(credit[msg.sender] >= amount, \"Insufficient balance\");\\n        \\n        credit[msg.sender] -= amount; // Effect: Update state before transferring funds\\n        \\n        (bool success,) = payable(msg.sender).call{value: amount}(\"\"); // Interaction: Transfer funds last\\n        require(success, \"Transfer failed\");\\n    }\\n}\\n', '// SPDX-License-Identifier: MIT\\npragma solidity ^0.8.0;\\n\\ncontract PiggyBridge is ReentrancyGuard {\\n    mapping(address => uint256) public balances;\\n    mapping(bytes32 => bool) public executedTxs;\\n\\n    function deposit() external payable {\\n        balances[msg.sender] += msg.value;\\n    }\\n\\n    function withdraw(uint256 amount, uint256 nonce, bytes memory signature) external nonReentrant {\\n        require(balances[msg.sender] >= amount, \"Insufficient balance\");\\n\\n        bytes32 messageHash = keccak256(abi.encodePacked(msg.sender, amount, nonce));\\n        require(!executedTxs[messageHash], \"Already executed\");\\n\\n        address signer = recoverSigner(messageHash, signature);\\n        require(signer == msg.sender, \"Invalid signature\");\\n\\n        executedTxs[messageHash] = true;\\n        balances[msg.sender] -= amount;\\n        payable(msg.sender).transfer(amount);\\n    }\\n\\n    function recoverSigner(bytes32 hash, bytes memory signature) public pure returns (address) {\\n        bytes32 ethSignedHash = keccak256(abi.encodePacked(\"\\\\x19Ethereum Signed Message:\\\\n32\", hash));\\n        (bytes32 r, bytes32 s, uint8 v) = splitSignature(signature);\\n        return ecrecover(ethSignedHash, v, r, s);\\n    }\\n\\n    function splitSignature(bytes memory sig) internal pure returns (bytes32 r, bytes32 s, uint8 v) {\\n        require(sig.length == 65, \"Invalid signature length\");\\n        assembly {\\n            r := mload(add(sig, 32))\\n            s := mload(add(sig, 64))\\n            v := byte(0, mload(add(sig, 96)))\\n        }\\n    }\\n}']\n"
     ]
    }
   ],
   "source": [
    "import os\n",
    "\n",
    "files = os.listdir('snippets')\n",
    "code_snippets = []\n",
    "for file in files:\n",
    "    with open(f'snippets/{file}', 'r') as f:\n",
    "        code_snippets.append(f.read())\n",
    "print(code_snippets)"
   ]
  },
  {
   "cell_type": "code",
   "execution_count": 23,
   "metadata": {},
   "outputs": [],
   "source": [
    "from langchain.chains import LLMChain\n",
    "chain = chain = prompt | model"
   ]
  },
  {
   "cell_type": "code",
   "execution_count": 28,
   "metadata": {},
   "outputs": [],
   "source": [
    "code = code_snippets[1]"
   ]
  },
  {
   "cell_type": "code",
   "execution_count": 29,
   "metadata": {},
   "outputs": [
    {
     "data": {
      "text/plain": [
       "AIMessage(content='Here\\'s the analysis of the provided smart contract along with potential vulnerabilities identified in JSON format:\\n\\n```json\\n[\\n    {\\n        \"line\": 12,\\n        \"token\": \"credit[msg.sender] -= amount;\",\\n        \"problem\": \"Reentrancy Attack\",\\n        \"severity\": \"high\",\\n        \"explanation\": \"The function updates the state (account balance) before making an external call (transfer). Although the nonReentrant modifier is applied, if it were absent or bypassed, reentrancy could lead to multiple withdrawals before the state change.\",\\n        \"migration\": \"Ensure all state changes are completed before any external calls or use established patterns like \\'checks-effects-interactions\\' or consider implementing a reentrancy guard.\"\\n    }\\n]\\n```\\n\\n**Explanation of the JSON fields:**\\n- **line**: The line number where the issue occurs.\\n- **token**: The specific code token that is problematic.\\n- **problem**: A short name for the issue.\\n- **severity**: The severity of the issue (low, high).\\n- **explanation**: A brief explanation of why this is a security risk.\\n- **migration**: A brief explanation of how to fix this issue.\\n\\n**Key Point of Vulnerability Identified:**\\n- The contract\\'s `withdraw` function is susceptible to a reentrancy attack if the `nonReentrant` modifier is not correctly implemented or bypassed. Although the contract uses a `nonReentrant` modifier from `ReentrancyGuard`, any oversight could lead to a critical vulnerability.', additional_kwargs={'refusal': None}, response_metadata={'token_usage': {'completion_tokens': 315, 'prompt_tokens': 405, 'total_tokens': 720, 'completion_tokens_details': {'accepted_prediction_tokens': 0, 'audio_tokens': 0, 'reasoning_tokens': 0, 'rejected_prediction_tokens': 0}, 'prompt_tokens_details': {'audio_tokens': 0, 'cached_tokens': 0}}, 'model_name': 'gpt-4o-mini-2024-07-18', 'system_fingerprint': 'fp_86d0290411', 'id': 'chatcmpl-BIwYlY7zvhaflURa1wOiEswUnPUfx', 'finish_reason': 'stop', 'logprobs': None}, id='run-49debf15-3319-4972-b618-fa3034b6f273-0', usage_metadata={'input_tokens': 405, 'output_tokens': 315, 'total_tokens': 720, 'input_token_details': {'audio': 0, 'cache_read': 0}, 'output_token_details': {'audio': 0, 'reasoning': 0}})"
      ]
     },
     "execution_count": 29,
     "metadata": {},
     "output_type": "execute_result"
    }
   ],
   "source": [
    "result = chain.invoke({\"code\": code})\n",
    "result"
   ]
  },
  {
   "cell_type": "code",
   "execution_count": 30,
   "metadata": {},
   "outputs": [
    {
     "name": "stdout",
     "output_type": "stream",
     "text": [
      "// SPDX-License-Identifier: MIT\n",
      "pragma solidity ^0.8.0;\n",
      "\n",
      "contract PiggyBank is ReentrancyGuard {\n",
      "    mapping(address => uint) public credit;\n",
      "\n",
      "    function deposit() public payable {\n",
      "        credit[msg.sender] += msg.value;\n",
      "    }\n",
      "\n",
      "    function withdraw(uint amount) public nonReentrant {\n",
      "        require(credit[msg.sender] >= amount, \"Insufficient balance\");\n",
      "        \n",
      "        credit[msg.sender] -= amount; // Effect: Update state before transferring funds\n",
      "        \n",
      "        (bool success,) = payable(msg.sender).call{value: amount}(\"\"); // Interaction: Transfer funds last\n",
      "        require(success, \"Transfer failed\");\n",
      "    }\n",
      "}\n",
      "\n",
      "Here's the analysis of the provided smart contract along with potential vulnerabilities identified in JSON format:\n",
      "\n",
      "```json\n",
      "[\n",
      "    {\n",
      "        \"line\": 12,\n",
      "        \"token\": \"credit[msg.sender] -= amount;\",\n",
      "        \"problem\": \"Reentrancy Attack\",\n",
      "        \"severity\": \"high\",\n",
      "        \"explanation\": \"The function updates the state (account balance) before making an external call (transfer). Although the nonReentrant modifier is applied, if it were absent or bypassed, reentrancy could lead to multiple withdrawals before the state change.\",\n",
      "        \"migration\": \"Ensure all state changes are completed before any external calls or use established patterns like 'checks-effects-interactions' or consider implementing a reentrancy guard.\"\n",
      "    }\n",
      "]\n",
      "```\n",
      "\n",
      "**Explanation of the JSON fields:**\n",
      "- **line**: The line number where the issue occurs.\n",
      "- **token**: The specific code token that is problematic.\n",
      "- **problem**: A short name for the issue.\n",
      "- **severity**: The severity of the issue (low, high).\n",
      "- **explanation**: A brief explanation of why this is a security risk.\n",
      "- **migration**: A brief explanation of how to fix this issue.\n",
      "\n",
      "**Key Point of Vulnerability Identified:**\n",
      "- The contract's `withdraw` function is susceptible to a reentrancy attack if the `nonReentrant` modifier is not correctly implemented or bypassed. Although the contract uses a `nonReentrant` modifier from `ReentrancyGuard`, any oversight could lead to a critical vulnerability.\n"
     ]
    }
   ],
   "source": [
    "result_text = result.content.strip('`json')\n",
    "print(code)\n",
    "print(result_text)"
   ]
  },
  {
   "cell_type": "code",
   "execution_count": 27,
   "metadata": {},
   "outputs": [
    {
     "data": {
      "text/plain": [
       "[{'line': 12,\n",
       "  'token': 'msg.sender.call.value(amount)()',\n",
       "  'problem': 'Reentrancy Attack',\n",
       "  'severity': 'high',\n",
       "  'explanation': \"This line calls an external function (msg.sender) which can potentially allow the attacker to re-enter the withdraw function before the credit is reduced, possibly leading to multiple withdrawals and draining the contract's funds.\",\n",
       "  'migration': \"Use the 'checks-effects-interactions' pattern. First, update the credit mapping to reflect the withdrawal before making the external call. Alternatively, use 'transfer' or 'send' for sending ether instead of 'call'.\"},\n",
       " {'line': 5,\n",
       "  'token': 'pragma solidity ^0.8.0;',\n",
       "  'problem': 'Replay signatures attack (Indirect)',\n",
       "  'severity': 'medium',\n",
       "  'explanation': 'While not directly addressed in this contract, using a versioned pragma might allow for potential exploitations if not combined with measures like nonces or specific replay protection mechanisms.',\n",
       "  'migration': 'Consider implementing a nonce mechanism or use Ethereum EIP-155 to include chain ID in signed messages to distinguish transactions across chains.'}]"
      ]
     },
     "execution_count": 27,
     "metadata": {},
     "output_type": "execute_result"
    }
   ],
   "source": [
    "import json\n",
    "(result_text[result_text.find(\"```json\") + len(\"```json\"):result_text.find(\"```\", result_text.find(\"```json\") + len(\"```json\"))])\n",
    "json.loads(result_text[result_text.find(\"```json\") + len(\"```json\"):result_text.find(\"```\", result_text.find(\"```json\") + len(\"```json\"))])"
   ]
  }
 ],
 "metadata": {
  "kernelspec": {
   "display_name": "Python 3",
   "language": "python",
   "name": "python3"
  },
  "language_info": {
   "codemirror_mode": {
    "name": "ipython",
    "version": 3
   },
   "file_extension": ".py",
   "mimetype": "text/x-python",
   "name": "python",
   "nbconvert_exporter": "python",
   "pygments_lexer": "ipython3",
   "version": "3.12.7"
  }
 },
 "nbformat": 4,
 "nbformat_minor": 2
}
