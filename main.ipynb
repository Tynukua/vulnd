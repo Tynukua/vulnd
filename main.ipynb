{
 "cells": [
  {
   "cell_type": "code",
   "execution_count": 7,
   "metadata": {},
   "outputs": [
    {
     "data": {
      "text/plain": [
       "True"
      ]
     },
     "execution_count": 7,
     "metadata": {},
     "output_type": "execute_result"
    }
   ],
   "source": [
    "import getpass\n",
    "import os\n",
    "import dotenv\n",
    "\n",
    "dotenv.load_dotenv()"
   ]
  },
  {
   "cell_type": "code",
   "execution_count": 8,
   "metadata": {},
   "outputs": [],
   "source": [
    "from langchain.chat_models import init_chat_model\n",
    "\n",
    "model = init_chat_model(\"gpt-4o-mini\", model_provider=\"openai\")\n"
   ]
  },
  {
   "cell_type": "code",
   "execution_count": null,
   "metadata": {},
   "outputs": [],
   "source": [
    "from langchain.prompts import PromptTemplate\n",
    "\n",
    "prompt = PromptTemplate.from_template(\n",
    "    \"\"\"\n",
    "    Analyze the following code and identify security vulnerabilities.\n",
    "Return the output in JSON format with the following fields:\n",
    "- \"line\": The line number where the issue occurs.\n",
    "- \"token\": The specific code token that is problematic.\n",
    "- \"problem\": A short name for the issue.\n",
    "- \"explanation\": A brief explanation of why this is a security risk.\n",
    "\n",
    "Code:\n",
    "{code}\n",
    "\"\"\"\n",
    ")"
   ]
  },
  {
   "cell_type": "code",
   "execution_count": 10,
   "metadata": {},
   "outputs": [],
   "source": [
    "code_snippet = '''\n",
    "function withdraw(uint amount) public{\n",
    "    if (credit[msg.sender]>= amount) {\n",
    "      require(msg.sender.call.value(amount)());\n",
    "      // here we are updating the credit after the external call, which is vulnerable to reentrancy attack\n",
    "      credit[msg.sender]-=amount;\n",
    "    }\n",
    "}\n",
    "'''"
   ]
  },
  {
   "cell_type": "code",
   "execution_count": 11,
   "metadata": {},
   "outputs": [],
   "source": [
    "from langchain.chains import LLMChain\n",
    "chain = chain = prompt | model"
   ]
  },
  {
   "cell_type": "code",
   "execution_count": 12,
   "metadata": {},
   "outputs": [
    {
     "data": {
      "text/plain": [
       "AIMessage(content='```json\\n[\\n    {\\n        \"line\": 5,\\n        \"token\": \"msg.sender.call.value(amount)()\",\\n        \"problem\": \"Reentrancy Attack\",\\n        \"explanation\": \"This code calls an external contract before updating the state variable \\'credit\\'. This can allow the called contract to reenter the \\'withdraw\\' function and manipulate state variables before they are updated, leading to unauthorized fund withdrawals.\"\\n    }\\n]\\n```', additional_kwargs={'refusal': None}, response_metadata={'token_usage': {'completion_tokens': 90, 'prompt_tokens': 139, 'total_tokens': 229, 'completion_tokens_details': {'accepted_prediction_tokens': 0, 'audio_tokens': 0, 'reasoning_tokens': 0, 'rejected_prediction_tokens': 0}, 'prompt_tokens_details': {'audio_tokens': 0, 'cached_tokens': 0}}, 'model_name': 'gpt-4o-mini-2024-07-18', 'system_fingerprint': 'fp_9654a743ed', 'id': 'chatcmpl-BHS7qflJGuLSJcZmAhSxHadjFBy1o', 'finish_reason': 'stop', 'logprobs': None}, id='run-2e9aba1c-c6df-4d87-9ade-5ffd1c41fff8-0', usage_metadata={'input_tokens': 139, 'output_tokens': 90, 'total_tokens': 229, 'input_token_details': {'audio': 0, 'cache_read': 0}, 'output_token_details': {'audio': 0, 'reasoning': 0}})"
      ]
     },
     "execution_count": 12,
     "metadata": {},
     "output_type": "execute_result"
    }
   ],
   "source": [
    "result = chain.invoke({\"code\": code_snippet})\n",
    "result"
   ]
  }
 ],
 "metadata": {
  "kernelspec": {
   "display_name": "Python 3",
   "language": "python",
   "name": "python3"
  },
  "language_info": {
   "codemirror_mode": {
    "name": "ipython",
    "version": 3
   },
   "file_extension": ".py",
   "mimetype": "text/x-python",
   "name": "python",
   "nbconvert_exporter": "python",
   "pygments_lexer": "ipython3",
   "version": "3.12.7"
  }
 },
 "nbformat": 4,
 "nbformat_minor": 2
}
