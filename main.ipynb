{
 "cells": [
  {
   "cell_type": "code",
   "execution_count": 60,
   "metadata": {},
   "outputs": [
    {
     "data": {
      "text/plain": [
       "True"
      ]
     },
     "execution_count": 60,
     "metadata": {},
     "output_type": "execute_result"
    }
   ],
   "source": [
    "import getpass\n",
    "import os\n",
    "import dotenv\n",
    "\n",
    "dotenv.load_dotenv()"
   ]
  },
  {
   "cell_type": "code",
   "execution_count": 61,
   "metadata": {},
   "outputs": [],
   "source": [
    "from langchain.chat_models import init_chat_model\n",
    "\n",
    "model = init_chat_model(\"gpt-4o-mini\", model_provider=\"openai\")\n"
   ]
  },
  {
   "cell_type": "code",
   "execution_count": 62,
   "metadata": {},
   "outputs": [],
   "source": [
    "from langchain.prompts import PromptTemplate\n",
    "\n",
    "prompt = PromptTemplate.from_template(\n",
    "    \"\"\"\n",
    "    Analyze the following code and identify security vulnerabilities.\n",
    "Return the output in JSON format with the following fields:\n",
    "- \"line\": The line number where the issue occurs.\n",
    "- \"token\": The specific code token that is problematic.\n",
    "- \"problem\": A short name for the issue.\n",
    "- \"explanation\": A brief explanation of why this is a security risk.\n",
    "- \"migration\": A brief explanation of how to fix this issue.\n",
    "Code:\n",
    "{code}\n",
    "\"\"\"\n",
    ")"
   ]
  },
  {
   "cell_type": "code",
   "execution_count": 63,
   "metadata": {},
   "outputs": [],
   "source": [
    "code_snippet = '''\n",
    "contract Vault {\n",
    "    using ECDSA for bytes32;\n",
    "\n",
    "        address public owner;\n",
    "\n",
    "    constructor() payable {\n",
    "        owner = msg.sender;\n",
    "    }\n",
    "\n",
    "    function transfer(address to, uint amount, bytes[2]memory sigs) external {\n",
    "        bytes32 hashed = computeHash(to, amount);\n",
    "        require(validate(sigs, hashed), \"invalid sig\");\n",
    "\n",
    "        (bool sent, ) = to.call{ value: amount } (\"\");\n",
    "        require(sent, \"Failed to send Ether\");\n",
    "    }\n",
    "\n",
    "    function computeHash(address to, uint amount) public pure returns(bytes32) {\n",
    "        return keccak256(abi.encodePacked(to, amount));\n",
    "    }\n",
    "\n",
    "    function validate(bytes[2]memory sigs, bytes32 hash) private view returns(bool) {\n",
    "        bytes32 ethSignedHash = hash.toEthSignedMessageHash();\n",
    "\n",
    "        address signer = ethSignedHash.recover(sigs[0]);\n",
    "        bool valid = signer == owner;\n",
    "\n",
    "        if (!valid) {\n",
    "            return false;\n",
    "        }\n",
    "\n",
    "        return true;\n",
    "    }\n",
    "}\n",
    "'''"
   ]
  },
  {
   "cell_type": "code",
   "execution_count": 64,
   "metadata": {},
   "outputs": [],
   "source": [
    "from langchain.chains import LLMChain\n",
    "chain = chain = prompt | model"
   ]
  },
  {
   "cell_type": "code",
   "execution_count": 65,
   "metadata": {},
   "outputs": [
    {
     "data": {
      "text/plain": [
       "AIMessage(content='```json\\n[\\n    {\\n        \"line\": 13,\\n        \"token\": \"to.call{ value: amount } (\\\\\"\\\\\")\",\\n        \"problem\": \"Reentrancy Attack\",\\n        \"explanation\": \"The use of the low-level call to send Ether can expose the contract to reentrancy attacks if the recipient is a contract that calls back into the Vault during execution.\",\\n        \"migration\": \"Use the Checks-Effects-Interactions pattern or consider using OpenZeppelin\\'s ReentrancyGuard contract to protect against reentrancy attacks.\"\\n    },\\n    {\\n        \"line\": 9,\\n        \"token\": \"require(validate(sigs, hashed), \\\\\"invalid sig\\\\\");\",\\n        \"problem\": \"Insufficient Signature Validation\",\\n        \"explanation\": \"The signature validation checks if only the owner signed the transaction but does not check if the signature is indeed valid for the specific transaction, allowing potential malicious actions if the owner\\'s key is compromised.\",\\n        \"migration\": \"Implement a robust multi-signature or time-lock mechanism and validate the signature against a message that includes the transaction details.\"\\n    },\\n    {\\n        \"line\": 7,\\n        \"token\": \"address public owner;\",\\n        \"problem\": \"Single Point of Failure\",\\n        \"explanation\": \"Having a single owner means if the private key is compromised, the attacker gains full control of the contract, which might result in loss of funds.\",\\n        \"migration\": \"Consider implementing a multi-signature wallet for ownership to add an additional layer of security.\"\\n    }\\n]\\n```', additional_kwargs={'refusal': None}, response_metadata={'token_usage': {'completion_tokens': 314, 'prompt_tokens': 304, 'total_tokens': 618, 'completion_tokens_details': {'accepted_prediction_tokens': 0, 'audio_tokens': 0, 'reasoning_tokens': 0, 'rejected_prediction_tokens': 0}, 'prompt_tokens_details': {'audio_tokens': 0, 'cached_tokens': 0}}, 'model_name': 'gpt-4o-mini-2024-07-18', 'system_fingerprint': 'fp_b376dfbbd5', 'id': 'chatcmpl-BHSeOcJJCHtRofGwnEr7daZOg1V84', 'finish_reason': 'stop', 'logprobs': None}, id='run-9a955cc8-ec89-4f56-85fa-5dfa0affa976-0', usage_metadata={'input_tokens': 304, 'output_tokens': 314, 'total_tokens': 618, 'input_token_details': {'audio': 0, 'cache_read': 0}, 'output_token_details': {'audio': 0, 'reasoning': 0}})"
      ]
     },
     "execution_count": 65,
     "metadata": {},
     "output_type": "execute_result"
    }
   ],
   "source": [
    "result = chain.invoke({\"code\": code_snippet})\n",
    "result"
   ]
  },
  {
   "cell_type": "code",
   "execution_count": 66,
   "metadata": {},
   "outputs": [
    {
     "name": "stdout",
     "output_type": "stream",
     "text": [
      "\n",
      "[\n",
      "    {\n",
      "        \"line\": 13,\n",
      "        \"token\": \"to.call{ value: amount } (\\\"\\\")\",\n",
      "        \"problem\": \"Reentrancy Attack\",\n",
      "        \"explanation\": \"The use of the low-level call to send Ether can expose the contract to reentrancy attacks if the recipient is a contract that calls back into the Vault during execution.\",\n",
      "        \"migration\": \"Use the Checks-Effects-Interactions pattern or consider using OpenZeppelin's ReentrancyGuard contract to protect against reentrancy attacks.\"\n",
      "    },\n",
      "    {\n",
      "        \"line\": 9,\n",
      "        \"token\": \"require(validate(sigs, hashed), \\\"invalid sig\\\");\",\n",
      "        \"problem\": \"Insufficient Signature Validation\",\n",
      "        \"explanation\": \"The signature validation checks if only the owner signed the transaction but does not check if the signature is indeed valid for the specific transaction, allowing potential malicious actions if the owner's key is compromised.\",\n",
      "        \"migration\": \"Implement a robust multi-signature or time-lock mechanism and validate the signature against a message that includes the transaction details.\"\n",
      "    },\n",
      "    {\n",
      "        \"line\": 7,\n",
      "        \"token\": \"address public owner;\",\n",
      "        \"problem\": \"Single Point of Failure\",\n",
      "        \"explanation\": \"Having a single owner means if the private key is compromised, the attacker gains full control of the contract, which might result in loss of funds.\",\n",
      "        \"migration\": \"Consider implementing a multi-signature wallet for ownership to add an additional layer of security.\"\n",
      "    }\n",
      "]\n",
      "\n"
     ]
    }
   ],
   "source": [
    "import json\n",
    "print(result.content.strip('`json'))"
   ]
  }
 ],
 "metadata": {
  "kernelspec": {
   "display_name": "Python 3",
   "language": "python",
   "name": "python3"
  },
  "language_info": {
   "codemirror_mode": {
    "name": "ipython",
    "version": 3
   },
   "file_extension": ".py",
   "mimetype": "text/x-python",
   "name": "python",
   "nbconvert_exporter": "python",
   "pygments_lexer": "ipython3",
   "version": "3.12.7"
  }
 },
 "nbformat": 4,
 "nbformat_minor": 2
}
